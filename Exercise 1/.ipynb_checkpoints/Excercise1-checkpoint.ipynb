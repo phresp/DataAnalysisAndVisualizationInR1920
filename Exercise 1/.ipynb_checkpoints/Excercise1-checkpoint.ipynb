{
 "cells": [
  {
   "cell_type": "markdown",
   "metadata": {},
   "source": [
    "# R Markdown\n",
    "\n",
    "This is an R Markdown document. An R Markdown file is a combination of text and code cells. \n",
    "You might be familiar with this concept from python's jupyter notebook.\n",
    "Otherwise, this first task should familiarize you with this concept. \n",
    "What you are reading here is standard text."
   ]
  },
  {
   "cell_type": "code",
   "execution_count": 10,
   "metadata": {},
   "outputs": [
    {
     "name": "stdout",
     "output_type": "stream",
     "text": [
      "[1] \"The sum of 1 to 10 is: 55\"\n"
     ]
    }
   ],
   "source": [
    "## And here you see how to add some R code:\n",
    "x <- 1:10\n",
    "s <- sum(x)\n",
    "print(paste('The sum of 1 to 10 is:', s))"
   ]
  },
  {
   "cell_type": "markdown",
   "metadata": {},
   "source": [
    "You can execute every single line within a code block by pressing `CTRL` and `ENTER` \n",
    "or you can knit the entire document into a pdf file by pressing the `Knit` button \n",
    "above.\n",
    "\n",
    "# Vectors\n",
    "\n",
    "## Question \n",
    "\n",
    "First, create three named numeric vectors of size 10, 11 and 12 respectively in the following manner: \n",
    "\n",
    "- One vector with the \"colon\" approach: *from:to*\n",
    "- One vector with the `seq()` function: *seq(from, to)*\n",
    "- And one vector with the `seq()` function and the `by` argument: *seq(from, to, by)*\n",
    "\n",
    "For easier naming you can use the vectors `letters` or `LETTERS` which contain the latin alphabet in lowercase and capital, respectively. In order to select specific letters use e.g. `letters[1:4]` to get the first four letters. \n",
    "Check their types. What is the outcome? Where do you think the difference comes from?\n",
    "\n",
    "Then combine all three vectors in a list called 'myList'. Check the attributes of the vectors and the list. What is the difference and why?\n",
    "\n",
    "\n",
    "**Hint:** If the elements of a list have no names, we can access them with the double brackets and an index, e.g. `myList[[1]]`"
   ]
  },
  {
   "cell_type": "code",
   "execution_count": 13,
   "metadata": {},
   "outputs": [],
   "source": [
    "# Please insert your solution here.\n"
   ]
  },
  {
   "cell_type": "markdown",
   "metadata": {},
   "source": [
    "## Question:\n",
    "\n",
    "Assume you have a lookup table as `lookup <- c(a = \"sun\", b = \"rain\", c = \"wind\", u = NA)`. Generate the weekly weather predictions `c(\"sun\",\"sun\",\"rain\", NA, \"rain\", \"rain\", \"wind\")` out of this lookup table.\n"
   ]
  },
  {
   "cell_type": "code",
   "execution_count": null,
   "metadata": {},
   "outputs": [],
   "source": [
    "```{r }\n",
    "lookup <- c(a = \"sun\", b = \"rain\", c = \"wind\", u = NA)\n",
    "# Please insert your solution here.\n",
    "\n",
    "\n",
    "```"
   ]
  },
  {
   "cell_type": "markdown",
   "metadata": {},
   "source": [
    "# Factors\n",
    "\n",
    "## Question:\n",
    "\n",
    "What is the difference between a factor and a vector?"
   ]
  },
  {
   "cell_type": "code",
   "execution_count": null,
   "metadata": {},
   "outputs": [],
   "source": [
    "```{r }\n",
    "# Please insert your solution here.\n",
    "\n",
    "```"
   ]
  },
  {
   "cell_type": "markdown",
   "metadata": {},
   "source": [
    "## Question\n",
    "Create a factor vector of length 30 with the three levels *Rita Repulsa*, *Lord Zedd* and *Rito Revolto* and equal length for each level. What happens if you replace the second element of the vector with *Shredder*? *Hint*: `gl()`\n"
   ]
  },
  {
   "cell_type": "code",
   "execution_count": null,
   "metadata": {},
   "outputs": [],
   "source": [
    "```{r }\n",
    "# Please insert your solution here.\n",
    "\n",
    "\n",
    "```"
   ]
  },
  {
   "cell_type": "markdown",
   "metadata": {},
   "source": [
    "## Question:\n",
    "\n",
    "Create the following 3 factor vectors f1, f2 and f3:\n",
    "```{r echo=T, results=\"show\"}\n",
    "f1 <- factor(letters)\n",
    "levels(f1) <- rev(levels(f1))\n",
    "f2 <- rev(factor(letters))\n",
    "f3 <- factor(letters, levels = rev(letters))\n",
    "```\n",
    "\n",
    "The function `rev` reverses the order of an order-able object. What is the difference between f1, f2 and f3? Why?"
   ]
  },
  {
   "cell_type": "code",
   "execution_count": null,
   "metadata": {},
   "outputs": [],
   "source": [
    "```{r }\n",
    "# Please insert your solution here.\n",
    "\n",
    "\n",
    "```"
   ]
  },
  {
   "cell_type": "markdown",
   "metadata": {},
   "source": [
    "# Matrices\n",
    "\n",
    "## Question :\n",
    "\n",
    "Create a 3 by 4 matrix that contains the numbers 1 to 12 and then convert it into a data frame.\n"
   ]
  },
  {
   "cell_type": "code",
   "execution_count": null,
   "metadata": {},
   "outputs": [],
   "source": [
    "```{r}\n",
    "# Please insert your solution here.\n",
    "\n",
    "\n",
    "```"
   ]
  },
  {
   "cell_type": "markdown",
   "metadata": {},
   "source": [
    "## Question:\n",
    "\n",
    "Create a 10 by 5 matrix which contains the numbers from 1 to 50 column-wisely. Name the rows as 'row_n' and columns as 'col_n'. Compute the mean and sum of each row and column. Add vector seq(60,100,10) as another row to the matrix. \n",
    "\n",
    "Generate another matrix with the same dimensions, containing random numbers between 1 and 100. Subtract this matrix from the first one. \n",
    "\n",
    "Plot the covariance matrix of the columns of the resulting matrix with spearman correlation coefficients.\n",
    "\n",
    "**Hint:** Check the functions paste0(), colMeans(), rowMeans(), colSums(), rowSums(), sample(), cor() and corrplot() (in package 'corrplot') \n",
    "\n"
   ]
  },
  {
   "cell_type": "code",
   "execution_count": null,
   "metadata": {},
   "outputs": [],
   "source": [
    "```{r }\n",
    "# Please insert your solution here.\n",
    "\n",
    "\n",
    "```"
   ]
  },
  {
   "cell_type": "markdown",
   "metadata": {},
   "source": [
    "# Lists and data.frames\n",
    "\n",
    "## From lists to data.frames\n",
    "\n",
    "Take myList from the first question. Coerce it to a `data.frame` with `as.data.frame()`. Why does it fail and how can we fix it? What happened to the names?"
   ]
  },
  {
   "cell_type": "code",
   "execution_count": null,
   "metadata": {},
   "outputs": [],
   "source": [
    "```{r}\n",
    "# Please insert your solution here.\n",
    "\n",
    "\n",
    "```"
   ]
  },
  {
   "cell_type": "markdown",
   "metadata": {},
   "source": [
    "## Creating data.frames\n",
    "Create a data.frame with 26 rows like the one shown below.\n",
    "Only the first six and the last six rows are displayed.\n",
    "\n",
    "**Hint:** Instead of the workaround with `list` you can also use simply `data.frame(column_name = column_vector, ...)`\n"
   ]
  },
  {
   "cell_type": "code",
   "execution_count": null,
   "metadata": {},
   "outputs": [],
   "source": [
    "```{r}\n",
    "# Please insert your solution here.\n",
    "\n",
    "```"
   ]
  },
  {
   "cell_type": "markdown",
   "metadata": {},
   "source": [
    "## Attributes\n",
    "\n",
    "Take again the `data.frame` from the previous question and make a copy of it.\n",
    "\n",
    "- Change the row names and the column names of the data.frame to capital letters (or small letters, if they are already capital).\n",
    "- Change the `class` attribute to *list*. What happens? \n",
    "- Change it now to any name you like. What happens now? What happens if you remove the `class` attribute?"
   ]
  },
  {
   "cell_type": "code",
   "execution_count": null,
   "metadata": {},
   "outputs": [],
   "source": [
    "```{r }\n",
    "# Please insert your solution here.\n",
    "\n",
    "\n",
    "```"
   ]
  },
  {
   "cell_type": "markdown",
   "metadata": {},
   "source": [
    "## Combining data.frames\n",
    "Now take the previous data.frame and reproduce the following data.frame.\n",
    "Only the first and the last six rows are shown.\n",
    "\n",
    "**Hint:** In order to combine to data.frames by column you can use `cbind(df1, df2, ...)`\n"
   ]
  },
  {
   "cell_type": "code",
   "execution_count": null,
   "metadata": {},
   "outputs": [],
   "source": [
    "```{r }\n",
    "# Please insert your solution here.\n",
    "\n",
    "\n",
    "```"
   ]
  },
  {
   "cell_type": "markdown",
   "metadata": {},
   "source": [
    "## Operations on data.frames\n",
    "Create the data.frame *df* using `df <- as.data.frame(matrix(runif(9e6), 3e3, 3e3))`\n",
    "\n",
    "This will create a data.frame with 3000 columns and rows and a total of 9 million values.\n",
    "\n",
    "Now compute the sum of any row, then compute the sum of any column. Measure the time for both operations. \n",
    "Why are the times different although the size is the same?\n",
    "\n",
    "* **Hint 1:** The time is measured with the function `system.time(my_function_call)`\n",
    "* **Hint 2:** The sum can be computed with the sum function `sum(my_vector)`\n",
    "* **Hint 3:** Columns and rows are selected by single brackets. Rows: `df[row_number, ]`, Columns: `df[, column_number]`"
   ]
  },
  {
   "cell_type": "code",
   "execution_count": null,
   "metadata": {},
   "outputs": [],
   "source": [
    "```{r }\n",
    "# Please insert your solution here.\n",
    "\n",
    "\n",
    "```"
   ]
  },
  {
   "cell_type": "markdown",
   "metadata": {},
   "source": [
    "# Subsetting\n",
    "\n",
    "## Question:\n",
    "Use the data.frame you created from the 3 by 4 matrix in the earlier question (Question 3.1) for the next three questions.\n",
    "\n",
    "1. Select the elements on the second row and the second and fourth columns."
   ]
  },
  {
   "cell_type": "code",
   "execution_count": null,
   "metadata": {},
   "outputs": [],
   "source": [
    "```{r }\n",
    "# Please insert your solution here.\n",
    "\n",
    "\n",
    "```"
   ]
  },
  {
   "cell_type": "markdown",
   "metadata": {},
   "source": [
    "2. Set the rownames to \"row1\", \"row2\", \"row3\" and column names to \"col1\", \"col2\", \"col3\" and \"col4\". (Hint: use the function \"paste0\")\n"
   ]
  },
  {
   "cell_type": "code",
   "execution_count": null,
   "metadata": {},
   "outputs": [],
   "source": [
    "```{r }\n",
    "# Please insert your solution here.\n",
    "\n",
    "\n",
    "```"
   ]
  },
  {
   "cell_type": "markdown",
   "metadata": {},
   "source": [
    "3. Assign 0 to all the elements in columns \"col3\" and \"col4\".\n"
   ]
  },
  {
   "cell_type": "code",
   "execution_count": null,
   "metadata": {},
   "outputs": [],
   "source": [
    "```{r }\n",
    "# Please insert your solution here.\n",
    "\n",
    "\n",
    "```"
   ]
  },
  {
   "cell_type": "markdown",
   "metadata": {},
   "source": [
    "## Question:\n",
    "\n",
    "Considering x <- c(\"a\"=1, \"b\"=2, \"c\"=3, \"d\"=4, \"e\"=5), select the third and fifth elements of x by using positive integers, negative integers, a logical vector, and a character vector."
   ]
  },
  {
   "cell_type": "code",
   "execution_count": null,
   "metadata": {},
   "outputs": [],
   "source": [
    "```{r }\n",
    "# Please insert your solution here.\n",
    "\n",
    "\n",
    "```"
   ]
  },
  {
   "cell_type": "markdown",
   "metadata": {},
   "source": [
    "## Question:\n",
    "\n",
    "Why are vals[c(2, 5)] and vals[2, 5] different where `vals <- outer(1:5, 1:5, FUN = \"/\")`? "
   ]
  },
  {
   "cell_type": "code",
   "execution_count": null,
   "metadata": {},
   "outputs": [],
   "source": [
    "```{r }\n",
    "# Please insert your solution here.\n",
    "\n",
    "\n",
    "```"
   ]
  },
  {
   "cell_type": "markdown",
   "metadata": {},
   "source": [
    "## Question:\n",
    "Assume `x <- matrix(1:20, ncol=2)`. What is the difference between `x[1, , drop = T]` and `x[1, , drop = F]`? Now let `y <- as.data.frame(x)`. What is the difference between `y[,1]` , `y[[1]]` and `y[1]`?"
   ]
  },
  {
   "cell_type": "code",
   "execution_count": null,
   "metadata": {},
   "outputs": [],
   "source": [
    "```{r }\n",
    "# Please insert your solution here.\n",
    "\n",
    "\n",
    "```"
   ]
  },
  {
   "cell_type": "markdown",
   "metadata": {},
   "source": [
    "## Question:\n",
    "Now assume the weather in winter lookup table is a data frame as below and we have the predictions for the next week as stored in weeklyCast. How would you create \"weeklyTable\" by the use of rownames function? How would you create it using the `match` function? How would you order the rows of lookup table by 'desc' column? "
   ]
  },
  {
   "cell_type": "code",
   "execution_count": null,
   "metadata": {},
   "outputs": [],
   "source": [
    "```{r echo=T, results=\"show\"}\n",
    "lookup <- data.frame(\n",
    "  averageTemperature = c(5, 7, 10, 0, 3),\n",
    "  desc = c(\"cloudy\", \"rainy\", \"sunny\", \"snowy\", \"windy\"),\n",
    "  goodForSki = c(T, F, T, F, F)\n",
    ")\n",
    "\n",
    "weeklyCast <- c(\"rainy\", \"rainy\", \"cloudy\", \"windy\", \"snowy\", \"cloudy\", \"sunny\")\n",
    "\n",
    "weeklyTable <- data.frame(averageTemperature=c(7,7,5,3,0,5,10), \n",
    "                          desc=c(\"rainy\", \"rainy\", \"cloudy\", \"windy\", \"snowy\", \"cloudy\", \"sunny\"),\n",
    "                          goodForSki=c(F,F,T,F,F,T,T))\n",
    "\n",
    "```"
   ]
  },
  {
   "cell_type": "code",
   "execution_count": null,
   "metadata": {},
   "outputs": [],
   "source": [
    "```{r }\n",
    "# Please insert your solution here.\n",
    "\n",
    "\n",
    "\n",
    "```"
   ]
  },
  {
   "cell_type": "markdown",
   "metadata": {},
   "source": [
    "## Question:\n",
    "For the next questions, consider the bigDF data.frame which has 1,500 columns and rows. \n",
    "\n",
    "1. Select the even numbered columns named such as \"Column_2\", \"Column_4\", etc."
   ]
  },
  {
   "cell_type": "code",
   "execution_count": null,
   "metadata": {},
   "outputs": [],
   "source": [
    "```{r echo=T, results=\"show\"}\n",
    "bigDF <- as.data.frame(matrix(0, ncol=1500, nrow=1500))\n",
    "colnames(bigDF) <- paste0(\"Column_\", 1:ncol(bigDF))\n",
    "```"
   ]
  },
  {
   "cell_type": "code",
   "execution_count": null,
   "metadata": {},
   "outputs": [],
   "source": [
    "```{r }\n",
    "# Please insert your solution here.\n",
    "\n",
    "```"
   ]
  },
  {
   "cell_type": "markdown",
   "metadata": {},
   "source": [
    "2. Select all the columns other than column 76.\n"
   ]
  },
  {
   "cell_type": "code",
   "execution_count": null,
   "metadata": {},
   "outputs": [],
   "source": [
    "```{r}\n",
    "# Please insert your solution here.\n",
    "\n",
    "\n",
    "```"
   ]
  },
  {
   "cell_type": "markdown",
   "metadata": {},
   "source": [
    "3. Assign the number 1 to 500 randomly selected diagonal indices. \n"
   ]
  },
  {
   "cell_type": "code",
   "execution_count": 1,
   "metadata": {
    "scrolled": true
   },
   "outputs": [
    {
     "ename": "ERROR",
     "evalue": "Error in parse(text = x, srcfile = src): attempt to use zero-length variable name\n",
     "output_type": "error",
     "traceback": [
      "Error in parse(text = x, srcfile = src): attempt to use zero-length variable name\nTraceback:\n"
     ]
    }
   ],
   "source": [
    "```{r}\n",
    "# Please insert your solution here.\n",
    "\n",
    "\n",
    "```"
   ]
  },
  {
   "cell_type": "markdown",
   "metadata": {},
   "source": [
    "4. Retrieve the row and column indices of the elements which have been assigned a 1. Select the rows where columns Column_1 or Column_2 are 1 using the subset() function."
   ]
  },
  {
   "cell_type": "code",
   "execution_count": 2,
   "metadata": {},
   "outputs": [
    {
     "ename": "ERROR",
     "evalue": "Error in parse(text = x, srcfile = src): attempt to use zero-length variable name\n",
     "output_type": "error",
     "traceback": [
      "Error in parse(text = x, srcfile = src): attempt to use zero-length variable name\nTraceback:\n"
     ]
    }
   ],
   "source": [
    "```{r}\n",
    "# Please insert your solution here.\n",
    "\n",
    "\n",
    "```"
   ]
  },
  {
   "cell_type": "markdown",
   "metadata": {},
   "source": [
    "## (Optional) Data.frames: Titanic\n",
    "Compute the number of women who survived the Titanic. Start by loading the data into a data.frame using the following command:\n"
   ]
  },
  {
   "cell_type": "code",
   "execution_count": 4,
   "metadata": {},
   "outputs": [
    {
     "ename": "ERROR",
     "evalue": "Error in parse(text = x, srcfile = src): attempt to use zero-length variable name\n",
     "output_type": "error",
     "traceback": [
      "Error in parse(text = x, srcfile = src): attempt to use zero-length variable name\nTraceback:\n"
     ]
    }
   ],
   "source": [
    "```{r echo=T, results=\"show\"}+\n",
    "#tab <- read.csv(\"extdata/titanic.csv\")\n",
    "```"
   ]
  },
  {
   "cell_type": "code",
   "execution_count": null,
   "metadata": {},
   "outputs": [],
   "source": [
    "```{r}\n",
    "# Please insert your solution here.\n",
    "\n",
    "\n",
    "```"
   ]
  }
 ],
 "metadata": {
  "kernelspec": {
   "display_name": "R",
   "language": "R",
   "name": "ir"
  },
  "language_info": {
   "codemirror_mode": "r",
   "file_extension": ".r",
   "mimetype": "text/x-r-source",
   "name": "R",
   "pygments_lexer": "r",
   "version": "3.6.1"
  }
 },
 "nbformat": 4,
 "nbformat_minor": 2
}
